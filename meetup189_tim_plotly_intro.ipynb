{
  "nbformat": 4,
  "nbformat_minor": 0,
  "metadata": {
    "colab": {
      "private_outputs": true,
      "provenance": [],
      "include_colab_link": true
    },
    "kernelspec": {
      "name": "python3",
      "display_name": "Python 3"
    }
  },
  "cells": [
    {
      "cell_type": "markdown",
      "metadata": {
        "id": "view-in-github",
        "colab_type": "text"
      },
      "source": [
        "<a href=\"https://colab.research.google.com/github/hareidx/build-your-own-x/blob/master/meetup189_tim_plotly_intro.ipynb\" target=\"_parent\"><img src=\"https://colab.research.google.com/assets/colab-badge.svg\" alt=\"Open In Colab\"/></a>"
      ]
    },
    {
      "cell_type": "markdown",
      "metadata": {
        "id": "QoqXSjbhk8l2"
      },
      "source": [
        "###MeetUp 189 - Beginners Python and Machine Learning - 23 Aug 2023 - Introduction to charting with plotly\n",
        "\n",
        "Learning objectives:\n",
        "- pandas DataFrames and Series\n",
        "- plotly.py\n",
        "\n",
        "Links\n",
        "- Colab: https://colab.research.google.com/drive/1wZwU8LyZ9XvbwcXAbIQ5-nqea5RsuVHq\n",
        "- Youtube: https://youtu.be/\n",
        "- Meetup: https://www.meetup.com/Beginners-Python-Machine-Learning/events/294509521/\n",
        "- Github: https://github.com/timcu/bpaml-sessions/tree/master/online\n",
        "\n",
        "\n",
        "@author D Tim Cummings\n",
        "\n"
      ]
    },
    {
      "cell_type": "code",
      "metadata": {
        "id": "9yMWYozN3F1b"
      },
      "source": [
        "# Google colab uses an old version of plotly. We need 4.5 or later\n",
        "!pip list | grep plotly"
      ],
      "execution_count": null,
      "outputs": []
    },
    {
      "cell_type": "code",
      "metadata": {
        "id": "hl_qX8vi3FhL"
      },
      "source": [
        "# We can upgrade for our session\n",
        "!pip install --upgrade plotly"
      ],
      "execution_count": null,
      "outputs": []
    },
    {
      "cell_type": "code",
      "metadata": {
        "id": "dBzdy3oYwM6-"
      },
      "source": [
        "import numpy as np\n",
        "import pandas as pd\n",
        "import plotly\n",
        "import plotly.graph_objects as go\n",
        "import plotly.express as px"
      ],
      "execution_count": null,
      "outputs": []
    },
    {
      "cell_type": "code",
      "metadata": {
        "id": "LNPKS5kakPu4"
      },
      "source": [
        "# https://plotly.com/python/creating-and-updating-figures/\n",
        "\n",
        "# plotly.py is a library for sending JSON objects to plotly.js\n",
        "# at a low level we can create a dict and send it straight to plotly.js\n",
        "fig = {\n",
        "    \"data\": [{\"type\": \"scatter\", \"x\": [1, 2, 3], \"y\": [1, 3, 2], \"name\":\"up down\"},\n",
        "             {\"type\": \"scatter\", \"x\": [1, 2, 4], \"y\": [1, 2.5, 3.5], \"name\":\"climber\"}\n",
        "             ],\n",
        "    \"layout\": {\"title\": {\"text\": \"Scatter chart constructed as a dict\"}}\n",
        "}\n",
        "# The method in the next line works out we are using colab and uses a colab renderer to\n",
        "# implement plotly.js in colab and display our interactive chart (try hovering and clicking)\n",
        "plotly.io.show(fig)\n",
        "# If you are not using interactive python you can create an html file and open it\n",
        "plotly.io.write_html(fig, \"fig1.html\")"
      ],
      "execution_count": null,
      "outputs": []
    },
    {
      "cell_type": "code",
      "metadata": {
        "id": "V3-hXbkbE-ip"
      },
      "source": [
        "# Challenge 1: Given the following lists of x and y values which represent sigmoid function\n",
        "# Plot the values in a scatter chart using dict\n",
        "x = np.linspace(-10, 10, 21)\n",
        "y = 1/(1 + np.exp(-x))\n",
        "print(x)\n",
        "print(y)"
      ],
      "execution_count": null,
      "outputs": []
    },
    {
      "cell_type": "code",
      "source": [],
      "metadata": {
        "id": "wLPXzqaebEem"
      },
      "execution_count": null,
      "outputs": []
    },
    {
      "cell_type": "code",
      "metadata": {
        "id": "JfA-BMj3FJbB"
      },
      "source": [
        "# Solution to challenge 1\n",
        "# if you are only showing one item in data list, you need to explicitly show the legend\n",
        "fig = {\n",
        "    \"data\": [{\"type\": \"scatter\", \"x\": x, \"y\": y, \"name\": \"sigmoid\", \"showlegend\": True}],\n",
        "    \"layout\": {\"title\": {\"text\": \"Sigmoid function constructed as a dict\"}}\n",
        "}\n",
        "plotly.io.show(fig)"
      ],
      "execution_count": null,
      "outputs": []
    },
    {
      "cell_type": "code",
      "metadata": {
        "id": "j7r3YJ3ikPe5"
      },
      "source": [
        "# At a higher level we can use plotly graph_objects which have a built-in validation\n",
        "fig = go.Figure(\n",
        "    data=[go.Bar(x=[1, 2, 3], y=[1, 3, 2], name=\"blue boxes\", showlegend=True,)],\n",
        "    layout=go.Layout(\n",
        "        title=go.layout.Title(text=\"Bar chart constructed using graph objects\")\n",
        "    )\n",
        ")\n",
        "# Figure has a \"write_html()\" method for those not using interactive python\n",
        "fig.write_html(\"fig2.html\")\n",
        "# In Google colab we can call \"show()\" method\n",
        "fig.show()"
      ],
      "execution_count": null,
      "outputs": []
    },
    {
      "cell_type": "code",
      "metadata": {
        "id": "0rX-k5NgG8an"
      },
      "source": [
        "# print fig to see how graph_objects are converted to a dict\n",
        "print(fig)"
      ],
      "execution_count": null,
      "outputs": []
    },
    {
      "cell_type": "code",
      "metadata": {
        "id": "_lu9-S6DHIOv"
      },
      "source": [
        "# use to_dict() to see the full dictionary\n",
        "fig.to_dict()"
      ],
      "execution_count": null,
      "outputs": []
    },
    {
      "cell_type": "code",
      "metadata": {
        "id": "0-ZYhvERGP6Q"
      },
      "source": [
        "# Challenge 2: Using x and y from Challenge 1 plot the values using graph_objects"
      ],
      "execution_count": null,
      "outputs": []
    },
    {
      "cell_type": "code",
      "metadata": {
        "id": "60wDfbuRGPu_"
      },
      "source": [],
      "execution_count": null,
      "outputs": []
    },
    {
      "cell_type": "code",
      "metadata": {
        "id": "26Y-RyBJGhj8"
      },
      "source": [
        "# Solution to challenge 2\n",
        "# Also demonstrates how to use lines or markers or both and how to set marker symbols\n",
        "fig2 = go.Figure(\n",
        "    data=[go.Scatter(x=x, y=y, name=\"sigmoid\", showlegend=True, mode=\"lines+markers\", marker_symbol=\"hash-dot\", marker_line_width=1, marker_size=15)],\n",
        "    layout=go.Layout(\n",
        "        title=go.layout.Title(text=\"Sigmoid function constructed from graph_object\")\n",
        "    )\n",
        ")\n",
        "# see the created dict. Notice what happens with marker_line_width\n",
        "print(fig2)\n",
        "fig2.show()"
      ],
      "execution_count": null,
      "outputs": []
    },
    {
      "cell_type": "code",
      "metadata": {
        "id": "McUSqf-rOgdE"
      },
      "source": [
        "# How to see all markers available\n",
        "# https://plotly.com/python/marker-style/\n",
        "raw_symbols = plotly.validators.scatter.marker.SymbolValidator().values\n",
        "print(\"Symbols\", raw_symbols)"
      ],
      "execution_count": null,
      "outputs": []
    },
    {
      "cell_type": "code",
      "metadata": {
        "id": "ETv2N1uR4NjV"
      },
      "source": [
        "# Challenge 3 - Assemble data into tuples\n",
        "# (int_id, str_id, name_stem, name_variant)\n",
        "# name_stem = name but removing all -open and -dot\n",
        "# name_variant = -open and -dot in original name\n",
        "# NB plotly 4.4.1 and earlier don't include int id in raw symbols"
      ],
      "execution_count": null,
      "outputs": []
    },
    {
      "cell_type": "code",
      "metadata": {
        "id": "L7ZGBtji4xTy"
      },
      "source": [],
      "execution_count": null,
      "outputs": []
    },
    {
      "cell_type": "code",
      "metadata": {
        "id": "q1jbwr364NYV"
      },
      "source": [
        "# Solution to challenge 3\n",
        "grouped_symbols = []\n",
        "for i in range(0, len(raw_symbols), 3):\n",
        "    int_id, str_id, name = raw_symbols[i], raw_symbols[i+1], raw_symbols[i+2]\n",
        "    name_stem = name.replace(\"-open\", \"\").replace(\"-dot\", \"\")\n",
        "    name_variant = name[len(name_stem):]\n",
        "    # name_stem, name_variant = (name, \"\") if idx_dash == -1 else (name[:idx_dash], name[idx_dash:])\n",
        "    grouped_symbols.append((int_id, str_id, name_stem, name_variant))\n",
        "print(\"Grouped symbols\", grouped_symbols)"
      ],
      "execution_count": null,
      "outputs": []
    },
    {
      "cell_type": "code",
      "metadata": {
        "id": "orubRkm047O7"
      },
      "source": [
        "# Challenge 4: Sort list of tuples by name"
      ],
      "execution_count": null,
      "outputs": []
    },
    {
      "cell_type": "code",
      "metadata": {
        "id": "0f75q2df5BRG"
      },
      "source": [],
      "execution_count": null,
      "outputs": []
    },
    {
      "cell_type": "code",
      "metadata": {
        "id": "zn8bnsoe5BxF"
      },
      "source": [
        "# Solution 4\n",
        "grouped_symbols.sort(key=lambda t: t[2])\n",
        "name_variants = [gs[3] for gs in grouped_symbols]\n",
        "name_stems = [gs[2] for gs in grouped_symbols]\n",
        "name_symbols = [gs[2] + gs[3] for gs in grouped_symbols]\n",
        "num_symbols = [gs[0] for gs in grouped_symbols]\n",
        "print(f\"grouped_symbols={grouped_symbols}\")\n",
        "print(f\"name_stems={name_stems}\")\n",
        "print(f\"name_variants={name_variants}\")\n",
        "print(f\"name_symbols={name_symbols}\")\n",
        "print(f\"num_symbols={num_symbols}\")"
      ],
      "execution_count": null,
      "outputs": []
    },
    {
      "cell_type": "code",
      "metadata": {
        "id": "xzR4I76h_xFP"
      },
      "source": [
        "# Challenge 5: Draw a scatter graph of the symbols\n",
        "# mode = \"markers\"\n",
        "# x = name_variant\n",
        "# y = name_stem\n",
        "# marker_symbol = symbol"
      ],
      "execution_count": null,
      "outputs": []
    },
    {
      "cell_type": "code",
      "metadata": {
        "id": "_AOV1ADxAmCR"
      },
      "source": [],
      "execution_count": null,
      "outputs": []
    },
    {
      "cell_type": "code",
      "metadata": {
        "id": "Rm8UNiQTEiDF"
      },
      "source": [
        "# Solution 5\n",
        "fig5 = go.Figure(go.Scatter(mode=\"markers\", x=name_variants, y=name_stems, marker_symbol=num_symbols,\n",
        "                           marker_line_color=\"midnightblue\", marker_color=\"lightskyblue\",\n",
        "                           marker_line_width=2, marker_size=15,\n",
        "                           hovertemplate=\"name: %{y}%{x}<br>number: %{marker.symbol}\"))\n",
        "fig5.update_layout(title=\"Mouse over symbols for name & number!\",\n",
        "                  xaxis_range=[-1,4], yaxis_range=[len(set(name_stems)),-1],  # number of unique name_stems sorted top to bottom\n",
        "                  margin=dict(b=0,r=0), xaxis_side=\"top\", height=1600, width=500)\n",
        "# default margin is b=80, r=80, l=80, t=100\n",
        "fig5.show()"
      ],
      "execution_count": null,
      "outputs": []
    },
    {
      "cell_type": "code",
      "metadata": {
        "id": "nf9BS2gV9PHh"
      },
      "source": [
        "# plotly express is higher level api designed for data exploration\n",
        "df1 = pd.DataFrame(data={\"id\": [1, 2, 3], \"score\": [1, 3, 2], \"group\": [\"up-down\"] * 3})\n",
        "df2 = pd.DataFrame(data={\"id\": [1, 2, 4], \"score\": [1, 2, 5], \"group\": [\"climber\"] * 3})\n",
        "df = pd.concat([df1, df2])\n",
        "print(df)\n",
        "px.line(df, x=\"id\", y=\"score\", color=\"group\")"
      ],
      "execution_count": null,
      "outputs": []
    },
    {
      "cell_type": "code",
      "metadata": {
        "id": "mEVR5ZgK9O2i"
      },
      "source": [
        "# Challenge 6: Using x and y from Challenge 1 plot the values using plotly express"
      ],
      "execution_count": null,
      "outputs": []
    },
    {
      "cell_type": "code",
      "metadata": {
        "id": "lkpFDsf59OpK"
      },
      "source": [],
      "execution_count": null,
      "outputs": []
    },
    {
      "cell_type": "code",
      "metadata": {
        "id": "vx-WKW2_9OLd"
      },
      "source": [
        "# Solution 6\n",
        "df = pd.DataFrame(data=y, index=x, columns=[\"sigmoid\"])\n",
        "df['fn'] = 'sigmoid'\n",
        "print(df.head())\n",
        "# px.line and px.scatter use dataframe index on x axis by default\n",
        "fig = px.line(df, y=\"sigmoid\", title=\"Sigmoid function constructed from plotly express\", color='fn')\n",
        "fig  # same as fig.show() for colab and jupyter notebooks"
      ],
      "execution_count": null,
      "outputs": []
    },
    {
      "cell_type": "code",
      "metadata": {
        "id": "V3LVg2sSkOvc"
      },
      "source": [
        "# plotly express comes with some default datasets if you want to practise\n",
        "df = px.data.gapminder().query(\"continent=='Oceania'\")\n",
        "fig = px.line(df, x=\"year\", y=\"lifeExp\", color='country')\n",
        "fig.show()\n",
        "df.info()"
      ],
      "execution_count": null,
      "outputs": []
    },
    {
      "cell_type": "code",
      "metadata": {
        "id": "mGTDmF9o9HsW"
      },
      "source": [
        "# Other chart types https://plotly.com/python/"
      ],
      "execution_count": null,
      "outputs": []
    },
    {
      "cell_type": "code",
      "metadata": {
        "id": "rL7pogLm9He9"
      },
      "source": [
        "# Sankey https://plotly.com/python/sankey-diagram/\n",
        "labels = [\"Average personal income tax\", \"Welfare\", \"aged\", \"disability\", \"families\", \"unemployed\", \"other welfare\", \"Health\", \"Defence\", \"Education\", \"Public services\", \"Interest\", \"Transport and communication\", \"Energy\", \"Public order\", \"Foreign affairs\", \"Industry assistance\", \"Housing and community\", \"Recreation and culture\", \"Immigration\", \"Other\"]\n",
        "sources = [0, 1, 1, 1, 1, 1, 0, 0, 0, 0, 0, 0, 0, 0, 0, 0, 0, 0, 0, 0]\n",
        "targets = [1, 2, 3, 4, 5, 6, 7, 8, 9, 10, 11, 12, 13, 14, 15, 16, 17, 18, 19, 20]\n",
        "values = [3951, 1604, 1049, 851, 249, 198, 1916, 898, 828, 483, 408, 193, 189, 137, 137, 137, 126, 95, 90, 412]\n",
        "fig = go.Figure(go.Sankey(\n",
        "    node = {\"label\": labels,},\n",
        "    link = {\n",
        "        \"source\": sources,\n",
        "        \"target\": targets,\n",
        "        \"value\": values},\n",
        "    valueformat = \".0f\",))\n",
        "fig.show()"
      ],
      "execution_count": null,
      "outputs": []
    },
    {
      "cell_type": "code",
      "metadata": {
        "id": "Txs_ZI5u9HbD"
      },
      "source": [
        "# 3D Isosurface plots https://plotly.com/python/3d-isosurface-plots/\n",
        "X, Y, Z = np.mgrid[-5:5:40j, -5:5:40j, -5:5:40j]\n",
        "\n",
        "# ellipsoid\n",
        "values = X * X * 0.5 + Y * Y + Z * Z * 2\n",
        "\n",
        "fig = go.Figure(data=go.Isosurface(\n",
        "    x=X.flatten(),\n",
        "    y=Y.flatten(),\n",
        "    z=Z.flatten(),\n",
        "    value=values.flatten(),\n",
        "    colorscale='BlueRed',\n",
        "    isomin=10,\n",
        "    isomax=50,\n",
        "    surface_count=3,\n",
        "    caps=dict(x_show=False, y_show=False)\n",
        "    ))\n",
        "fig.show()"
      ],
      "execution_count": null,
      "outputs": []
    },
    {
      "cell_type": "code",
      "metadata": {
        "id": "9f1pXc589HSv"
      },
      "source": [
        "# Notice how surface_count = 3 gets translated to surface = {'count': 3}\n",
        "# This is called \"Magic Underscore Notation\" and is a \"plotly specific\" feature\n",
        "# Happens almost every time there is an underscore in parameter name\n",
        "print(fig)"
      ],
      "execution_count": null,
      "outputs": []
    },
    {
      "cell_type": "code",
      "metadata": {
        "id": "NMx2nZbBZ29g"
      },
      "source": [
        "# Challenge 7: Find another example of \"Magic Underscore Notation\" we have used"
      ],
      "execution_count": null,
      "outputs": []
    },
    {
      "cell_type": "code",
      "metadata": {
        "id": "2H6KW0jNaEMf"
      },
      "source": [],
      "execution_count": null,
      "outputs": []
    },
    {
      "cell_type": "code",
      "metadata": {
        "id": "7TDTBZ-TaEj_"
      },
      "source": [
        "# Solution 7: Look at Solution 2\n",
        "# marker_line_width=1 is equivalent to marker={\"line\": {\"width\": 1}}\n",
        "# Can also specify the layout title text\n",
        "fig2 = go.Figure(\n",
        "    data=[go.Scatter(x=x, y=y, name=\"sigmoid\", showlegend=True, mode=\"lines+markers\", marker_symbol=\"hash-dot\", marker_line_width=1, marker_size=15)],\n",
        "    layout_title_text=\"Title created using magic underscore notation\"\n",
        ")\n",
        "print(fig2)\n",
        "fig2.show()\n",
        "fig2.update_layout(title_text='My title updated using title_text')\n",
        "print(fig2)\n",
        "fig2.update(layout_title_text='My title updated using layout_title_text')"
      ],
      "execution_count": null,
      "outputs": []
    },
    {
      "cell_type": "code",
      "metadata": {
        "id": "dAMOb9y29HE7"
      },
      "source": [
        "# Remember how we created a evenly spaced array using linspace or arange\n",
        "print(np.arange(-10, 10.1, 0.5))\n",
        "print(np.linspace(-10, 10, 41))"
      ],
      "execution_count": null,
      "outputs": []
    },
    {
      "cell_type": "code",
      "metadata": {
        "id": "ij3tYsep1PLN"
      },
      "source": [
        "# We can do the same using one dimensional mesh grid, specifying the interval between values (like np.arange()) (end is non-inclusive)\n",
        "np.mgrid[-10:10.1:0.5]"
      ],
      "execution_count": null,
      "outputs": []
    },
    {
      "cell_type": "code",
      "metadata": {
        "id": "dsmijMGtV1a_"
      },
      "source": [
        "# Can also use complex numbers to specify number of values (like np.linspace()) (end is inclusive)\n",
        "np.mgrid[-10:10:41j]"
      ],
      "execution_count": null,
      "outputs": []
    },
    {
      "cell_type": "code",
      "metadata": {
        "id": "HeP7PQUXgEsy"
      },
      "source": [
        "# Challenge 8: Create a mesh grid X1 having 3 values from 0 to 1 and Y1 having 3 values from 1 to 2\n",
        "# Calculate array V1 where V1[i, j] = X1[i, j]**2 + Y1[i, j]**2\n",
        "# Flatten V1 into a one dimensional array"
      ],
      "execution_count": null,
      "outputs": []
    },
    {
      "cell_type": "code",
      "metadata": {
        "id": "niA8UrjDgyIV"
      },
      "source": [],
      "execution_count": null,
      "outputs": []
    },
    {
      "cell_type": "code",
      "metadata": {
        "id": "sMQ_880SXJMV"
      },
      "source": [
        "# Solution 8:\n",
        "X1, Y1 = np.mgrid[0:1:3j, 1:2:3j]\n",
        "(X1**2 + Y1**2).flatten()"
      ],
      "execution_count": null,
      "outputs": []
    },
    {
      "cell_type": "code",
      "metadata": {
        "id": "2RZHYH5XdMVH"
      },
      "source": [],
      "execution_count": null,
      "outputs": []
    }
  ]
}